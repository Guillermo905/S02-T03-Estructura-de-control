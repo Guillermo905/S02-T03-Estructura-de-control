{
 "cells": [
  {
   "cell_type": "markdown",
   "id": "6690b6a3",
   "metadata": {},
   "source": [
    "# Nivell 1\n",
    "\n",
    "## Exercici 1\n",
    "\n",
    "L'exercici consisteix a crear un programa que et classifiqui una variable numèrica en funció de l’escala Suspès/Aprovat/Notable/Excel·lent. "
   ]
  },
  {
   "cell_type": "code",
   "execution_count": 14,
   "id": "60dc4f00",
   "metadata": {},
   "outputs": [
    {
     "name": "stdout",
     "output_type": "stream",
     "text": [
      "Introdueix la nota: -3\n",
      "La nota ha de ser entre 0 i 10\n"
     ]
    }
   ],
   "source": [
    "nota = float(input(\"Introdueix la nota: \"))\n",
    "\n",
    "if nota >= 0 and nota < 5:\n",
    "    print(\"Suspès\")\n",
    "elif nota >= 5 and nota < 7:\n",
    "    print(\"Aprovat\")\n",
    "elif nota >= 7 and nota < 9:\n",
    "    print(\"Notable\")\n",
    "elif nota >=9 and nota <10:\n",
    "    print(\"Excel·lent\")\n",
    "else:\n",
    "    print(\"La nota ha de ser entre 0 i 10\")"
   ]
  },
  {
   "cell_type": "markdown",
   "id": "869e32f5",
   "metadata": {},
   "source": [
    "## Exercici 2\n",
    "\n",
    "Utilitzant el següent tutorial Programiz: Python Input, Output and Import crea un programa que et pregunti dos números. T’ha de mostrar un missatge dient si el primer és més gran, el segon és més gran o són iguals."
   ]
  },
  {
   "cell_type": "code",
   "execution_count": 24,
   "id": "4855e899",
   "metadata": {},
   "outputs": [
    {
     "name": "stdout",
     "output_type": "stream",
     "text": [
      "Introdueix el primer número: 2\n",
      "Introdueix el segon número: 2\n",
      "2.0 i 2.0 són iguals\n"
     ]
    }
   ],
   "source": [
    "n1 = float(input(\"Introdueix el primer número: \"))\n",
    "n2 = float(input(\"Introdueix el segon número: \"))\n",
    "txt = \" és més gran que \"\n",
    "\n",
    "\n",
    "if n1 > n2:\n",
    "    print('{}{}{}'.format(n1,txt,n2))\n",
    "elif n2 > n1:\n",
    "    print('{}{}{}'.format(n2,txt,n1))\n",
    "else:\n",
    "    print(\"{} i {} són iguals\".format(n1,n2))"
   ]
  },
  {
   "cell_type": "markdown",
   "id": "dd0016f8",
   "metadata": {},
   "source": [
    "## Exercici 3\n",
    "\n",
    "Crea un programa que et pregunti el teu nom, i et demani un número. Si el número és 0, hauria de mostrar un missatge d’error. En cas contrari, hauria de mostrar el nom repetit tants cops com indiqui el número. Per exemple, “Joan Joan Joan”."
   ]
  },
  {
   "cell_type": "code",
   "execution_count": 39,
   "id": "bbc0ac16",
   "metadata": {},
   "outputs": [
    {
     "name": "stdout",
     "output_type": "stream",
     "text": [
      "Introdueix un número: 3\n",
      "Introdueix un nom: Joan\n",
      "Joan Joan Joan \n"
     ]
    }
   ],
   "source": [
    "num = int(input(\"Introdueix un número: \"))\n",
    "\n",
    "while num <=0:\n",
    "    print(\"Número no vàlid, ha de ser més gran de 0\")\n",
    "    num = int(input(\"Introdueix un número: \"))\n",
    "    \n",
    "nom = input(\"Introdueix un nom: \")\n",
    "nom2 = nom + \" \"\n",
    "print(nom2 *num)"
   ]
  },
  {
   "cell_type": "markdown",
   "id": "249308b6",
   "metadata": {},
   "source": [
    "## Exercici 4\n",
    "\n",
    "Crea un programa que donada una llista qualsevol, et digui si es simètrica o no. Si ho és, que et digui quants elements té."
   ]
  },
  {
   "cell_type": "code",
   "execution_count": 1,
   "id": "7f762c26",
   "metadata": {},
   "outputs": [
    {
     "name": "stdout",
     "output_type": "stream",
     "text": [
      "Introdueix una llista de números separades per espais: 4 5 6\n",
      "La llista té 1 número simètric\n"
     ]
    }
   ],
   "source": [
    "def llista():#Funció per introduir valors en llista i els passa a int\n",
    "    llist_input = input(\"Introdueix una llista de números separades per espais: \")\n",
    "    llist = llist_input.split()\n",
    "    listInt = []\n",
    "\n",
    "    for num in llist:\n",
    "        listInt.append(int(num))\n",
    "    return listInt\n",
    "\n",
    "def plural(x):#Funció que retorna la s si es requereix un plural\n",
    "    pl = \"\" if x == 1 else \"s\"\n",
    "    return pl\n",
    "\n",
    "\n",
    "listInt = llista()\n",
    "listIntRev = listInt.copy()\n",
    "listIntRev.reverse()\n",
    "\n",
    "count = 0\n",
    "'''\n",
    "for i in range(len(listInt)):\n",
    "    if listInt[i] == listIntRev[i]:#Comprova si la llista es simètrica\n",
    "        count += 1 \n",
    "if count == len(listInt):\n",
    "    print(\"La llista és totalment simétrica\")\n",
    "else:\n",
    "    pl = plural(count)\n",
    "    print(\"La llista té {} número{} simètric{}\".format(count, pl, pl))\n",
    "'''\n",
    "\n",
    "for element, elementRev in zip(listInt, listIntRev):\n",
    "    if element == elementRev:\n",
    "        count+=1\n",
    "    \n",
    "if count == len(listInt):\n",
    "    print(\"La llista és totalment simétrica\")\n",
    "else:\n",
    "    pl = plural(count)\n",
    "    print(\"La llista té {} número{} simètric{}\".format(count, pl, pl))\n"
   ]
  },
  {
   "cell_type": "markdown",
   "id": "40ca0a05",
   "metadata": {},
   "source": [
    "## Exercici 5\n",
    "\n",
    "Crea un programa que donada una llista, et digui quants números coincideixen amb la seva posició. Per exemple [3,4,2,0,2,3,6] el 2 i el 6 coincideixen."
   ]
  },
  {
   "cell_type": "code",
   "execution_count": 2,
   "id": "458a4fba",
   "metadata": {},
   "outputs": [
    {
     "name": "stdout",
     "output_type": "stream",
     "text": [
      "Introdueix una llista de números separades per espais: 0 1 2 2 4\n",
      "Hi ha 4 números que coincideixen\n"
     ]
    }
   ],
   "source": [
    "lista = llista()\n",
    "\n",
    "\n",
    "count = 0\n",
    "\n",
    "for index, valor in enumerate(lista):\n",
    "    if valor == index:\n",
    "        count += 1\n",
    "    \n",
    "\n",
    "pl = plural(count) \n",
    "\n",
    "print(\"Hi ha {} número{} que coincideixen\".format(count, pl))"
   ]
  },
  {
   "cell_type": "code",
   "execution_count": null,
   "id": "4ef80767",
   "metadata": {},
   "outputs": [],
   "source": []
  }
 ],
 "metadata": {
  "kernelspec": {
   "display_name": "Python 3 (ipykernel)",
   "language": "python",
   "name": "python3"
  },
  "language_info": {
   "codemirror_mode": {
    "name": "ipython",
    "version": 3
   },
   "file_extension": ".py",
   "mimetype": "text/x-python",
   "name": "python",
   "nbconvert_exporter": "python",
   "pygments_lexer": "ipython3",
   "version": "3.9.7"
  }
 },
 "nbformat": 4,
 "nbformat_minor": 5
}
